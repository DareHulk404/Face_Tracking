{
 "cells": [
  {
   "cell_type": "code",
   "execution_count": 1,
   "id": "3643b10a",
   "metadata": {},
   "outputs": [],
   "source": [
    "import cv2\n",
    "import cvzone\n",
    "import numpy as np\n",
    "import time\n",
    "from cvzone.FaceDetectionModule import FaceDetector\n",
    "import pyfirmata"
   ]
  },
  {
   "cell_type": "code",
   "execution_count": 2,
   "id": "144e68aa",
   "metadata": {},
   "outputs": [],
   "source": [
    "cap = cv2.VideoCapture(0)\n",
    "ws, hs = 1280, 720\n",
    "cap.set(3, ws)\n",
    "cap.set(4, hs)\n",
    "\n",
    "if not cap.isOpened():\n",
    "    print(\"Camera couldn't Access!!!\")\n",
    "    exit()\n",
    "\n",
    "\n",
    "\n",
    "\n",
    "detector = FaceDetector()\n",
    "\n",
    "while True:\n",
    "    success, img = cap.read()\n",
    "    img, bboxs = detector.findFaces(img, draw=False)\n",
    "\n",
    "    if bboxs:\n",
    "        fx, fy = bboxs[0][\"center\"][0], bboxs[0][\"center\"][1]\n",
    "        pos = [fx, fy]\n",
    "\n",
    "\n",
    "\n",
    "        cv2.circle(img, (fx, fy), 80, (0, 0, 255), 2)\n",
    "        cv2.putText(img, str(pos), (fx+15, fy-15), cv2.FONT_HERSHEY_PLAIN, 2, (255, 0, 0), 2 )\n",
    "        cv2.line(img, (0, fy), (ws, fy), (0, 0, 0), 2)  # x line\n",
    "        cv2.line(img, (fx, hs), (fx, 0), (0, 0, 0), 2)  # y line\n",
    "        cv2.circle(img, (fx, fy), 15, (0, 0, 255), cv2.FILLED)\n",
    "        cv2.putText(img, \"TARGET LOCKED\", (850, 50), cv2.FONT_HERSHEY_PLAIN, 3, (255, 0, 255), 3 )\n",
    "\n",
    "    else:\n",
    "        cv2.putText(img, \"NO TARGET\", (880, 50), cv2.FONT_HERSHEY_PLAIN, 3, (0, 0, 255), 3)\n",
    "        cv2.circle(img, (640, 360), 80, (0, 0, 255), 2)\n",
    "        cv2.circle(img, (640, 360), 15, (0, 0, 255), cv2.FILLED)\n",
    "        cv2.line(img, (0, 360), (ws, 360), (0, 0, 0), 2)  # x line\n",
    "        cv2.line(img, (640, hs), (640, 0), (0, 0, 0), 2)  # y line\n",
    "\n",
    "\n",
    "    cv2.imshow(\"Image\", img)\n",
    "    if cv2.waitKey(10) & 0xFF == ord('q'):\n",
    "            break\n",
    "cap.release()\n",
    "cv2.destroyAllWindows()\n"
   ]
  },
  {
   "cell_type": "code",
   "execution_count": null,
   "id": "72fd3973",
   "metadata": {},
   "outputs": [],
   "source": []
  }
 ],
 "metadata": {
  "kernelspec": {
   "display_name": "Python 3 (ipykernel)",
   "language": "python",
   "name": "python3"
  },
  "language_info": {
   "codemirror_mode": {
    "name": "ipython",
    "version": 3
   },
   "file_extension": ".py",
   "mimetype": "text/x-python",
   "name": "python",
   "nbconvert_exporter": "python",
   "pygments_lexer": "ipython3",
   "version": "3.11.5"
  }
 },
 "nbformat": 4,
 "nbformat_minor": 5
}
